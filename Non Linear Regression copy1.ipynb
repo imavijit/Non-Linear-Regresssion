{
 "cells": [
  {
   "cell_type": "code",
   "execution_count": 1,
   "metadata": {},
   "outputs": [],
   "source": [
    "import matplotlib.pyplot as plt\n",
    "import pandas as pd\n",
    "import pylab as pl\n",
    "import numpy as np\n",
    "import re\n",
    "%matplotlib inline"
   ]
  },
  {
   "cell_type": "code",
   "execution_count": 2,
   "metadata": {},
   "outputs": [
    {
     "data": {
      "text/html": [
       "<div>\n",
       "<style scoped>\n",
       "    .dataframe tbody tr th:only-of-type {\n",
       "        vertical-align: middle;\n",
       "    }\n",
       "\n",
       "    .dataframe tbody tr th {\n",
       "        vertical-align: top;\n",
       "    }\n",
       "\n",
       "    .dataframe thead th {\n",
       "        text-align: right;\n",
       "    }\n",
       "</style>\n",
       "<table border=\"1\" class=\"dataframe\">\n",
       "  <thead>\n",
       "    <tr style=\"text-align: right;\">\n",
       "      <th></th>\n",
       "      <th>x</th>\n",
       "      <th>y</th>\n",
       "      <th>X</th>\n",
       "    </tr>\n",
       "  </thead>\n",
       "  <tbody>\n",
       "    <tr>\n",
       "      <th>0</th>\n",
       "      <td>1</td>\n",
       "      <td>45.0</td>\n",
       "      <td>0</td>\n",
       "    </tr>\n",
       "    <tr>\n",
       "      <th>1</th>\n",
       "      <td>2</td>\n",
       "      <td>60.0</td>\n",
       "      <td>1</td>\n",
       "    </tr>\n",
       "    <tr>\n",
       "      <th>2</th>\n",
       "      <td>3</td>\n",
       "      <td>77.0</td>\n",
       "      <td>2</td>\n",
       "    </tr>\n",
       "    <tr>\n",
       "      <th>3</th>\n",
       "      <td>4</td>\n",
       "      <td>96.0</td>\n",
       "      <td>3</td>\n",
       "    </tr>\n",
       "    <tr>\n",
       "      <th>4</th>\n",
       "      <td>5</td>\n",
       "      <td>117.0</td>\n",
       "      <td>4</td>\n",
       "    </tr>\n",
       "  </tbody>\n",
       "</table>\n",
       "</div>"
      ],
      "text/plain": [
       "   x      y  X\n",
       "0  1   45.0  0\n",
       "1  2   60.0  1\n",
       "2  3   77.0  2\n",
       "3  4   96.0  3\n",
       "4  5  117.0  4"
      ]
     },
     "execution_count": 2,
     "metadata": {},
     "output_type": "execute_result"
    }
   ],
   "source": [
    "def process(text):\n",
    "    text = re.sub(r'[^\\x00-\\x7F]+', '.', text, 1)\n",
    "    text = text.encode('ascii', 'ignore').decode('unicode_escape')\n",
    "    return text\n",
    "\n",
    "df = pd.read_csv(\"D:/Machine Learning/Linear Regression/nonlinear_regression.csv\", header=0, index_col=0).reset_index()\n",
    "df['y'] = df['y'].apply(process)\n",
    "df = df.dropna(how='any')\n",
    "df['y'] = df['y'].astype(float)\n",
    "df.shape\n",
    "df[\"X\"]=df.index\n",
    "df.head()"
   ]
  },
  {
   "cell_type": "code",
   "execution_count": 3,
   "metadata": {},
   "outputs": [
    {
     "name": "stdout",
     "output_type": "stream",
     "text": [
      "   x      y  X\n",
      "0  1   45.0  1\n",
      "1  2   60.0  2\n",
      "2  3   77.0  3\n",
      "3  4   96.0  4\n",
      "4  5  117.0  5\n"
     ]
    },
    {
     "data": {
      "text/plain": [
       "<bound method DataFrame.info of                  x           y        X\n",
       "0                1   45.000000        1\n",
       "1                2   60.000000        2\n",
       "2                3   77.000000        3\n",
       "3                4   96.000000        4\n",
       "4                5  117.000000        5\n",
       "5                6  140.000000        6\n",
       "6                7  165.000000        7\n",
       "7                8  192.000000        8\n",
       "8                9  221.000000        9\n",
       "9               10  252.000000       10\n",
       "10              11  285.000000       11\n",
       "11              12  320.000000       12\n",
       "12              13  357.000000       13\n",
       "13              14  396.000000       14\n",
       "14              15  437.000000       15\n",
       "15              16  480.000000       16\n",
       "16              17  525.000000       17\n",
       "17              18  572.000000       18\n",
       "18              19  621.000000       19\n",
       "19              20  672.000000       20\n",
       "20              21  725.000000       21\n",
       "21              22  780.000000       22\n",
       "22              23  837.000000       23\n",
       "23              24  896.000000       24\n",
       "24              25  957.000000       25\n",
       "25              26    1.020000       26\n",
       "26              27    1.085000       27\n",
       "27              28    1.152000       28\n",
       "28              29    1.221000       29\n",
       "29              30    1.292000       30\n",
       "...            ...         ...      ...\n",
       "1048545  1 048 546    1.099461  1048546\n",
       "1048546  1 048 547    1.099463  1048547\n",
       "1048547  1 048 548    1.099465  1048548\n",
       "1048548  1 048 549    1.099468  1048549\n",
       "1048549  1 048 550    1.099470  1048550\n",
       "1048550  1 048 551    1.099472  1048551\n",
       "1048551  1 048 552    1.099474  1048552\n",
       "1048552  1 048 553    1.099476  1048553\n",
       "1048553  1 048 554    1.099478  1048554\n",
       "1048554  1 048 555    1.099480  1048555\n",
       "1048555  1 048 556    1.099482  1048556\n",
       "1048556  1 048 557    1.099484  1048557\n",
       "1048557  1 048 558    1.099486  1048558\n",
       "1048558  1 048 559    1.099489  1048559\n",
       "1048559  1 048 560    1.099491  1048560\n",
       "1048560  1 048 561    1.099493  1048561\n",
       "1048561  1 048 562    1.099495  1048562\n",
       "1048562  1 048 563    1.099497  1048563\n",
       "1048563  1 048 564    1.099499  1048564\n",
       "1048564  1 048 565    1.099501  1048565\n",
       "1048565  1 048 566    1.099503  1048566\n",
       "1048566  1 048 567    1.099505  1048567\n",
       "1048567  1 048 568    1.099507  1048568\n",
       "1048568  1 048 569    1.099510  1048569\n",
       "1048569  1 048 570    1.099512  1048570\n",
       "1048570  1 048 571    1.099514  1048571\n",
       "1048571  1 048 572    1.099516  1048572\n",
       "1048572  1 048 573    1.099518  1048573\n",
       "1048573  1 048 574    1.099520  1048574\n",
       "1048574  1 048 575    1.099522  1048575\n",
       "\n",
       "[1048575 rows x 3 columns]>"
      ]
     },
     "execution_count": 3,
     "metadata": {},
     "output_type": "execute_result"
    }
   ],
   "source": [
    "df[\"X\"]=df[\"X\"]+1\n",
    "print(df.head())\n",
    "df.info"
   ]
  },
  {
   "cell_type": "code",
   "execution_count": 4,
   "metadata": {},
   "outputs": [],
   "source": [
    "df.drop(\"x\",axis=1,inplace=True)"
   ]
  },
  {
   "cell_type": "code",
   "execution_count": 5,
   "metadata": {},
   "outputs": [
    {
     "data": {
      "text/plain": [
       "<bound method DataFrame.info of                   y        X\n",
       "0         45.000000        1\n",
       "1         60.000000        2\n",
       "2         77.000000        3\n",
       "3         96.000000        4\n",
       "4        117.000000        5\n",
       "5        140.000000        6\n",
       "6        165.000000        7\n",
       "7        192.000000        8\n",
       "8        221.000000        9\n",
       "9        252.000000       10\n",
       "10       285.000000       11\n",
       "11       320.000000       12\n",
       "12       357.000000       13\n",
       "13       396.000000       14\n",
       "14       437.000000       15\n",
       "15       480.000000       16\n",
       "16       525.000000       17\n",
       "17       572.000000       18\n",
       "18       621.000000       19\n",
       "19       672.000000       20\n",
       "20       725.000000       21\n",
       "21       780.000000       22\n",
       "22       837.000000       23\n",
       "23       896.000000       24\n",
       "24       957.000000       25\n",
       "25         1.020000       26\n",
       "26         1.085000       27\n",
       "27         1.152000       28\n",
       "28         1.221000       29\n",
       "29         1.292000       30\n",
       "...             ...      ...\n",
       "1048545    1.099461  1048546\n",
       "1048546    1.099463  1048547\n",
       "1048547    1.099465  1048548\n",
       "1048548    1.099468  1048549\n",
       "1048549    1.099470  1048550\n",
       "1048550    1.099472  1048551\n",
       "1048551    1.099474  1048552\n",
       "1048552    1.099476  1048553\n",
       "1048553    1.099478  1048554\n",
       "1048554    1.099480  1048555\n",
       "1048555    1.099482  1048556\n",
       "1048556    1.099484  1048557\n",
       "1048557    1.099486  1048558\n",
       "1048558    1.099489  1048559\n",
       "1048559    1.099491  1048560\n",
       "1048560    1.099493  1048561\n",
       "1048561    1.099495  1048562\n",
       "1048562    1.099497  1048563\n",
       "1048563    1.099499  1048564\n",
       "1048564    1.099501  1048565\n",
       "1048565    1.099503  1048566\n",
       "1048566    1.099505  1048567\n",
       "1048567    1.099507  1048568\n",
       "1048568    1.099510  1048569\n",
       "1048569    1.099512  1048570\n",
       "1048570    1.099514  1048571\n",
       "1048571    1.099516  1048572\n",
       "1048572    1.099518  1048573\n",
       "1048573    1.099520  1048574\n",
       "1048574    1.099522  1048575\n",
       "\n",
       "[1048575 rows x 2 columns]>"
      ]
     },
     "execution_count": 5,
     "metadata": {},
     "output_type": "execute_result"
    }
   ],
   "source": [
    "df.info"
   ]
  },
  {
   "cell_type": "code",
   "execution_count": 6,
   "metadata": {},
   "outputs": [
    {
     "data": {
      "text/plain": [
       "array([[45.        , 60.        , 77.        , ...,  1.09951792,\n",
       "         1.09952002,  1.09952211]])"
      ]
     },
     "execution_count": 6,
     "metadata": {},
     "output_type": "execute_result"
    }
   ],
   "source": [
    "X=df.iloc[:,1].values.reshape(1,-1)\n",
    "y=df.iloc[:,0].values.reshape(1,-1)\n",
    "y"
   ]
  },
  {
   "cell_type": "code",
   "execution_count": 7,
   "metadata": {},
   "outputs": [],
   "source": [
    "msk=np.random.rand(len(df))<0.8\n",
    "train=df[msk]\n",
    "test=df[~msk]"
   ]
  },
  {
   "cell_type": "code",
   "execution_count": 8,
   "metadata": {},
   "outputs": [
    {
     "name": "stdout",
     "output_type": "stream",
     "text": [
      "Coefficient:  [[0.00072707]]\n",
      "Intercept:  [-52.86715756]\n"
     ]
    }
   ],
   "source": [
    "from sklearn import linear_model\n",
    "regr=linear_model.LinearRegression()\n",
    "train_x=np.asanyarray(train[[\"X\"]])\n",
    "train_y=np.asanyarray(train[[\"y\"]])\n",
    "regr.fit(train_x,train_y)\n",
    "\n",
    "print(\"Coefficient: \",regr.coef_)\n",
    "print(\"Intercept: \",regr.intercept_)"
   ]
  },
  {
   "cell_type": "code",
   "execution_count": 9,
   "metadata": {},
   "outputs": [
    {
     "data": {
      "text/plain": [
       "[<matplotlib.lines.Line2D at 0x1b1019762e8>]"
      ]
     },
     "execution_count": 9,
     "metadata": {},
     "output_type": "execute_result"
    },
    {
     "data": {
      "image/png": "[encoded data removed]",
      "text/plain": [
       "<matplotlib.figure.Figure at 0x1b1019768d0>"
      ]
     },
     "metadata": {},
     "output_type": "display_data"
    }
   ],
   "source": [
    "plt.scatter(train[\"X\"],train[\"y\"],color='red')\n",
    "plt.plot(train_x, regr.predict(train_x),'-b')"
   ]
  },
  {
   "cell_type": "code",
   "execution_count": 10,
   "metadata": {},
   "outputs": [
    {
     "name": "stdout",
     "output_type": "stream",
     "text": [
      "R2_score:0.54\n",
      "Mean absolute error: 121.09\n"
     ]
    }
   ],
   "source": [
    "from sklearn.metrics import r2_score\n",
    "test_x=np.asanyarray(test[[\"X\"]])\n",
    "test_y=np.asanyarray(test[[\"y\"]])\n",
    "\n",
    "y_pred=regr.predict(test_x)\n",
    "\n",
    "print(\"R2_score:%.2f\" %r2_score(test_y,y_pred))\n",
    "print(\"Mean absolute error: %.2f\" % np.mean(np.absolute(y_pred- test_y)))"
   ]
  },
  {
   "cell_type": "code",
   "execution_count": null,
   "metadata": {},
   "outputs": [],
   "source": []
  }
 ],
 "metadata": {
  "kernelspec": {
   "display_name": "Python 3",
   "language": "python",
   "name": "python3"
  },
  "language_info": {
   "codemirror_mode": {
    "name": "ipython",
    "version": 3
   },
   "file_extension": ".py",
   "mimetype": "text/x-python",
   "name": "python",
   "nbconvert_exporter": "python",
   "pygments_lexer": "ipython3",
   "version": "3.6.4"
  }
 },
 "nbformat": 4,
 "nbformat_minor": 2
}
